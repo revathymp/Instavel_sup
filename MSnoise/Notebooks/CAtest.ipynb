{
 "cells": [
  {
   "cell_type": "code",
   "execution_count": 7,
   "id": "f8febf25",
   "metadata": {},
   "outputs": [],
   "source": [
    "from obspy import UTCDateTime\n",
    "from obspy.clients.fdsn import Client\n",
    "import os\n",
    "from obspy import read_inventory\n",
    "\n",
    "directory ='/gps/'\n",
    "os.chdir(directory) \n",
    "#os.mkdir(\"2022\")\n",
    "\n",
    "client=Client('SCEDC')"
   ]
  },
  {
   "cell_type": "code",
   "execution_count": 8,
   "id": "9002e41e",
   "metadata": {},
   "outputs": [
    {
     "name": "stdout",
     "output_type": "stream",
     "text": [
      "Working on day 1\n",
      "0.03225806451612903 %\n",
      "Remove response complete for 2022-01-01T00:00:00.000000Z\n",
      "CI.WCS2..LHE | 2022-01-01T00:00:00.069500Z - 2022-01-01T23:59:59.069500Z | 1.0 Hz, 86400 samples\n",
      "Working on day 2\n",
      "0.06451612903225806 %\n"
     ]
    },
    {
     "name": "stderr",
     "output_type": "stream",
     "text": [
      "/usr/local/miniconda3/lib/python3.7/site-packages/obspy/io/mseed/core.py:790: UserWarning: The encoding specified in trace.stats.mseed.encoding does not match the dtype of the data.\n",
      "A suitable encoding will be chosen.\n",
      "  warnings.warn(msg, UserWarning)\n"
     ]
    },
    {
     "name": "stdout",
     "output_type": "stream",
     "text": [
      "Remove response complete for 2022-01-02T00:00:00.000000Z\n",
      "CI.WCS2..LHE | 2022-01-02T00:00:00.069500Z - 2022-01-02T23:59:59.069500Z | 1.0 Hz, 86400 samples\n",
      "Working on day 3\n",
      "0.0967741935483871 %\n"
     ]
    },
    {
     "name": "stderr",
     "output_type": "stream",
     "text": [
      "/usr/local/miniconda3/lib/python3.7/site-packages/obspy/io/mseed/core.py:790: UserWarning: The encoding specified in trace.stats.mseed.encoding does not match the dtype of the data.\n",
      "A suitable encoding will be chosen.\n",
      "  warnings.warn(msg, UserWarning)\n"
     ]
    },
    {
     "name": "stdout",
     "output_type": "stream",
     "text": [
      "Remove response complete for 2022-01-03T00:00:00.000000Z\n",
      "CI.WCS2..LHE | 2022-01-03T00:00:00.069500Z - 2022-01-03T23:59:59.069500Z | 1.0 Hz, 86400 samples\n",
      "Working on day 4\n",
      "0.12903225806451613 %\n"
     ]
    },
    {
     "name": "stderr",
     "output_type": "stream",
     "text": [
      "/usr/local/miniconda3/lib/python3.7/site-packages/obspy/io/mseed/core.py:790: UserWarning: The encoding specified in trace.stats.mseed.encoding does not match the dtype of the data.\n",
      "A suitable encoding will be chosen.\n",
      "  warnings.warn(msg, UserWarning)\n"
     ]
    },
    {
     "name": "stdout",
     "output_type": "stream",
     "text": [
      "Remove response complete for 2022-01-04T00:00:00.000000Z\n",
      "CI.WCS2..LHE | 2022-01-04T00:00:00.069500Z - 2022-01-04T23:59:59.069500Z | 1.0 Hz, 86400 samples\n",
      "Working on day 5\n",
      "0.16129032258064516 %\n"
     ]
    },
    {
     "name": "stderr",
     "output_type": "stream",
     "text": [
      "/usr/local/miniconda3/lib/python3.7/site-packages/obspy/io/mseed/core.py:790: UserWarning: The encoding specified in trace.stats.mseed.encoding does not match the dtype of the data.\n",
      "A suitable encoding will be chosen.\n",
      "  warnings.warn(msg, UserWarning)\n"
     ]
    },
    {
     "name": "stdout",
     "output_type": "stream",
     "text": [
      "Remove response complete for 2022-01-05T00:00:00.000000Z\n",
      "CI.WCS2..LHE | 2022-01-05T00:00:00.069500Z - 2022-01-05T23:59:59.069500Z | 1.0 Hz, 86400 samples\n",
      "Working on day 6\n",
      "0.1935483870967742 %\n"
     ]
    },
    {
     "name": "stderr",
     "output_type": "stream",
     "text": [
      "/usr/local/miniconda3/lib/python3.7/site-packages/obspy/io/mseed/core.py:790: UserWarning: The encoding specified in trace.stats.mseed.encoding does not match the dtype of the data.\n",
      "A suitable encoding will be chosen.\n",
      "  warnings.warn(msg, UserWarning)\n"
     ]
    },
    {
     "name": "stdout",
     "output_type": "stream",
     "text": [
      "Remove response complete for 2022-01-06T00:00:00.000000Z\n",
      "CI.WCS2..LHE | 2022-01-06T00:00:00.069500Z - 2022-01-06T23:59:59.069500Z | 1.0 Hz, 86400 samples\n",
      "Working on day 7\n",
      "0.22580645161290322 %\n"
     ]
    },
    {
     "name": "stderr",
     "output_type": "stream",
     "text": [
      "/usr/local/miniconda3/lib/python3.7/site-packages/obspy/io/mseed/core.py:790: UserWarning: The encoding specified in trace.stats.mseed.encoding does not match the dtype of the data.\n",
      "A suitable encoding will be chosen.\n",
      "  warnings.warn(msg, UserWarning)\n"
     ]
    },
    {
     "name": "stdout",
     "output_type": "stream",
     "text": [
      "Remove response complete for 2022-01-07T00:00:00.000000Z\n",
      "CI.WCS2..LHE | 2022-01-07T00:00:00.069500Z - 2022-01-07T23:59:59.069500Z | 1.0 Hz, 86400 samples\n",
      "Working on day 8\n",
      "0.25806451612903225 %\n"
     ]
    },
    {
     "name": "stderr",
     "output_type": "stream",
     "text": [
      "/usr/local/miniconda3/lib/python3.7/site-packages/obspy/io/mseed/core.py:790: UserWarning: The encoding specified in trace.stats.mseed.encoding does not match the dtype of the data.\n",
      "A suitable encoding will be chosen.\n",
      "  warnings.warn(msg, UserWarning)\n"
     ]
    },
    {
     "name": "stdout",
     "output_type": "stream",
     "text": [
      "Remove response complete for 2022-01-08T00:00:00.000000Z\n",
      "CI.WCS2..LHE | 2022-01-08T00:00:00.069500Z - 2022-01-08T23:59:59.069500Z | 1.0 Hz, 86400 samples\n",
      "Working on day 9\n",
      "0.2903225806451613 %\n"
     ]
    },
    {
     "name": "stderr",
     "output_type": "stream",
     "text": [
      "/usr/local/miniconda3/lib/python3.7/site-packages/obspy/io/mseed/core.py:790: UserWarning: The encoding specified in trace.stats.mseed.encoding does not match the dtype of the data.\n",
      "A suitable encoding will be chosen.\n",
      "  warnings.warn(msg, UserWarning)\n"
     ]
    },
    {
     "name": "stdout",
     "output_type": "stream",
     "text": [
      "Remove response complete for 2022-01-09T00:00:00.000000Z\n",
      "CI.WCS2..LHE | 2022-01-09T00:00:00.069500Z - 2022-01-09T23:59:59.069500Z | 1.0 Hz, 86400 samples\n",
      "Working on day 10\n",
      "0.3225806451612903 %\n"
     ]
    },
    {
     "name": "stderr",
     "output_type": "stream",
     "text": [
      "/usr/local/miniconda3/lib/python3.7/site-packages/obspy/io/mseed/core.py:790: UserWarning: The encoding specified in trace.stats.mseed.encoding does not match the dtype of the data.\n",
      "A suitable encoding will be chosen.\n",
      "  warnings.warn(msg, UserWarning)\n"
     ]
    },
    {
     "name": "stdout",
     "output_type": "stream",
     "text": [
      "Remove response complete for 2022-01-10T00:00:00.000000Z\n",
      "CI.WCS2..LHE | 2022-01-10T00:00:00.069500Z - 2022-01-10T23:59:59.069500Z | 1.0 Hz, 86400 samples\n",
      "Working on day 11\n",
      "0.3548387096774194 %\n"
     ]
    },
    {
     "name": "stderr",
     "output_type": "stream",
     "text": [
      "/usr/local/miniconda3/lib/python3.7/site-packages/obspy/io/mseed/core.py:790: UserWarning: The encoding specified in trace.stats.mseed.encoding does not match the dtype of the data.\n",
      "A suitable encoding will be chosen.\n",
      "  warnings.warn(msg, UserWarning)\n"
     ]
    },
    {
     "name": "stdout",
     "output_type": "stream",
     "text": [
      "Remove response complete for 2022-01-11T00:00:00.000000Z\n",
      "CI.WCS2..LHE | 2022-01-11T00:00:00.069500Z - 2022-01-11T23:59:59.069500Z | 1.0 Hz, 86400 samples\n",
      "Working on day 12\n",
      "0.3870967741935484 %\n"
     ]
    },
    {
     "name": "stderr",
     "output_type": "stream",
     "text": [
      "/usr/local/miniconda3/lib/python3.7/site-packages/obspy/io/mseed/core.py:790: UserWarning: The encoding specified in trace.stats.mseed.encoding does not match the dtype of the data.\n",
      "A suitable encoding will be chosen.\n",
      "  warnings.warn(msg, UserWarning)\n"
     ]
    },
    {
     "name": "stdout",
     "output_type": "stream",
     "text": [
      "Remove response complete for 2022-01-12T00:00:00.000000Z\n",
      "CI.WCS2..LHE | 2022-01-12T00:00:00.069500Z - 2022-01-12T23:59:59.069500Z | 1.0 Hz, 86400 samples\n",
      "Working on day 13\n",
      "0.41935483870967744 %\n"
     ]
    },
    {
     "name": "stderr",
     "output_type": "stream",
     "text": [
      "/usr/local/miniconda3/lib/python3.7/site-packages/obspy/io/mseed/core.py:790: UserWarning: The encoding specified in trace.stats.mseed.encoding does not match the dtype of the data.\n",
      "A suitable encoding will be chosen.\n",
      "  warnings.warn(msg, UserWarning)\n"
     ]
    },
    {
     "name": "stdout",
     "output_type": "stream",
     "text": [
      "Remove response complete for 2022-01-13T00:00:00.000000Z\n",
      "CI.WCS2..LHE | 2022-01-13T00:00:00.069500Z - 2022-01-13T23:28:58.069500Z | 1.0 Hz, 84539 samples\n",
      "Working on day 14\n",
      "0.45161290322580644 %\n"
     ]
    },
    {
     "name": "stderr",
     "output_type": "stream",
     "text": [
      "/usr/local/miniconda3/lib/python3.7/site-packages/obspy/io/mseed/core.py:790: UserWarning: The encoding specified in trace.stats.mseed.encoding does not match the dtype of the data.\n",
      "A suitable encoding will be chosen.\n",
      "  warnings.warn(msg, UserWarning)\n"
     ]
    },
    {
     "name": "stdout",
     "output_type": "stream",
     "text": [
      "Remove response complete for 2022-01-14T00:00:00.000000Z\n",
      "CI.WCS2..LHE | 2022-01-14T00:00:00.069500Z - 2022-01-14T00:02:56.069500Z | 1.0 Hz, 177 samples\n",
      "Working on day 15\n",
      "0.4838709677419355 %\n"
     ]
    },
    {
     "name": "stderr",
     "output_type": "stream",
     "text": [
      "/usr/local/miniconda3/lib/python3.7/site-packages/obspy/io/mseed/core.py:790: UserWarning: The encoding specified in trace.stats.mseed.encoding does not match the dtype of the data.\n",
      "A suitable encoding will be chosen.\n",
      "  warnings.warn(msg, UserWarning)\n"
     ]
    },
    {
     "name": "stdout",
     "output_type": "stream",
     "text": [
      "Remove response complete for 2022-01-15T00:00:00.000000Z\n",
      "CI.WCS2..LHE | 2022-01-15T00:00:00.069500Z - 2022-01-15T23:59:59.069500Z | 1.0 Hz, 86400 samples\n",
      "Working on day 16\n",
      "0.5161290322580645 %\n"
     ]
    },
    {
     "name": "stderr",
     "output_type": "stream",
     "text": [
      "/usr/local/miniconda3/lib/python3.7/site-packages/obspy/io/mseed/core.py:790: UserWarning: The encoding specified in trace.stats.mseed.encoding does not match the dtype of the data.\n",
      "A suitable encoding will be chosen.\n",
      "  warnings.warn(msg, UserWarning)\n"
     ]
    },
    {
     "name": "stdout",
     "output_type": "stream",
     "text": [
      "Remove response complete for 2022-01-16T00:00:00.000000Z\n",
      "CI.WCS2..LHE | 2022-01-16T00:00:00.069500Z - 2022-01-16T23:59:59.069500Z | 1.0 Hz, 86400 samples\n",
      "Working on day 17\n",
      "0.5483870967741935 %\n"
     ]
    },
    {
     "name": "stderr",
     "output_type": "stream",
     "text": [
      "/usr/local/miniconda3/lib/python3.7/site-packages/obspy/io/mseed/core.py:790: UserWarning: The encoding specified in trace.stats.mseed.encoding does not match the dtype of the data.\n",
      "A suitable encoding will be chosen.\n",
      "  warnings.warn(msg, UserWarning)\n"
     ]
    },
    {
     "name": "stdout",
     "output_type": "stream",
     "text": [
      "Remove response complete for 2022-01-17T00:00:00.000000Z\n",
      "CI.WCS2..LHE | 2022-01-17T00:00:00.069500Z - 2022-01-17T23:59:59.069500Z | 1.0 Hz, 86400 samples\n",
      "Working on day 18\n",
      "0.5806451612903226 %\n"
     ]
    },
    {
     "name": "stderr",
     "output_type": "stream",
     "text": [
      "/usr/local/miniconda3/lib/python3.7/site-packages/obspy/io/mseed/core.py:790: UserWarning: The encoding specified in trace.stats.mseed.encoding does not match the dtype of the data.\n",
      "A suitable encoding will be chosen.\n",
      "  warnings.warn(msg, UserWarning)\n"
     ]
    },
    {
     "name": "stdout",
     "output_type": "stream",
     "text": [
      "Remove response complete for 2022-01-18T00:00:00.000000Z\n",
      "CI.WCS2..LHE | 2022-01-18T00:00:00.069500Z - 2022-01-18T23:59:59.069500Z | 1.0 Hz, 86400 samples\n",
      "Working on day 19\n",
      "0.6129032258064516 %\n"
     ]
    },
    {
     "name": "stderr",
     "output_type": "stream",
     "text": [
      "/usr/local/miniconda3/lib/python3.7/site-packages/obspy/io/mseed/core.py:790: UserWarning: The encoding specified in trace.stats.mseed.encoding does not match the dtype of the data.\n",
      "A suitable encoding will be chosen.\n",
      "  warnings.warn(msg, UserWarning)\n"
     ]
    },
    {
     "name": "stdout",
     "output_type": "stream",
     "text": [
      "Remove response complete for 2022-01-19T00:00:00.000000Z\n",
      "CI.WCS2..LHE | 2022-01-19T00:00:00.069500Z - 2022-01-19T23:59:59.069500Z | 1.0 Hz, 86400 samples\n",
      "Working on day 20\n",
      "0.6451612903225806 %\n"
     ]
    },
    {
     "name": "stderr",
     "output_type": "stream",
     "text": [
      "/usr/local/miniconda3/lib/python3.7/site-packages/obspy/io/mseed/core.py:790: UserWarning: The encoding specified in trace.stats.mseed.encoding does not match the dtype of the data.\n",
      "A suitable encoding will be chosen.\n",
      "  warnings.warn(msg, UserWarning)\n"
     ]
    },
    {
     "name": "stdout",
     "output_type": "stream",
     "text": [
      "Remove response complete for 2022-01-20T00:00:00.000000Z\n",
      "CI.WCS2..LHE | 2022-01-20T00:00:00.069500Z - 2022-01-20T23:59:59.069500Z | 1.0 Hz, 86400 samples\n",
      "Working on day 21\n",
      "0.6774193548387096 %\n"
     ]
    },
    {
     "name": "stderr",
     "output_type": "stream",
     "text": [
      "/usr/local/miniconda3/lib/python3.7/site-packages/obspy/io/mseed/core.py:790: UserWarning: The encoding specified in trace.stats.mseed.encoding does not match the dtype of the data.\n",
      "A suitable encoding will be chosen.\n",
      "  warnings.warn(msg, UserWarning)\n"
     ]
    },
    {
     "name": "stdout",
     "output_type": "stream",
     "text": [
      "Remove response complete for 2022-01-21T00:00:00.000000Z\n",
      "CI.WCS2..LHE | 2022-01-21T00:00:00.069500Z - 2022-01-21T23:59:59.069500Z | 1.0 Hz, 86400 samples\n",
      "Working on day 22\n",
      "0.7096774193548387 %\n"
     ]
    },
    {
     "name": "stderr",
     "output_type": "stream",
     "text": [
      "/usr/local/miniconda3/lib/python3.7/site-packages/obspy/io/mseed/core.py:790: UserWarning: The encoding specified in trace.stats.mseed.encoding does not match the dtype of the data.\n",
      "A suitable encoding will be chosen.\n",
      "  warnings.warn(msg, UserWarning)\n"
     ]
    },
    {
     "name": "stdout",
     "output_type": "stream",
     "text": [
      "Remove response complete for 2022-01-22T00:00:00.000000Z\n",
      "CI.WCS2..LHE | 2022-01-22T00:00:00.069500Z - 2022-01-22T23:59:59.069500Z | 1.0 Hz, 86400 samples\n",
      "Working on day 23\n",
      "0.7419354838709677 %\n"
     ]
    },
    {
     "name": "stderr",
     "output_type": "stream",
     "text": [
      "/usr/local/miniconda3/lib/python3.7/site-packages/obspy/io/mseed/core.py:790: UserWarning: The encoding specified in trace.stats.mseed.encoding does not match the dtype of the data.\n",
      "A suitable encoding will be chosen.\n",
      "  warnings.warn(msg, UserWarning)\n"
     ]
    },
    {
     "name": "stdout",
     "output_type": "stream",
     "text": [
      "Remove response complete for 2022-01-23T00:00:00.000000Z\n",
      "CI.WCS2..LHE | 2022-01-23T00:00:00.069500Z - 2022-01-23T23:59:59.069500Z | 1.0 Hz, 86400 samples\n",
      "Working on day 24\n",
      "0.7741935483870968 %\n"
     ]
    },
    {
     "name": "stderr",
     "output_type": "stream",
     "text": [
      "/usr/local/miniconda3/lib/python3.7/site-packages/obspy/io/mseed/core.py:790: UserWarning: The encoding specified in trace.stats.mseed.encoding does not match the dtype of the data.\n",
      "A suitable encoding will be chosen.\n",
      "  warnings.warn(msg, UserWarning)\n"
     ]
    },
    {
     "name": "stdout",
     "output_type": "stream",
     "text": [
      "Remove response complete for 2022-01-24T00:00:00.000000Z\n",
      "CI.WCS2..LHE | 2022-01-24T00:00:00.069500Z - 2022-01-24T23:59:59.069500Z | 1.0 Hz, 86400 samples\n",
      "Working on day 25\n",
      "0.8064516129032258 %\n"
     ]
    },
    {
     "name": "stderr",
     "output_type": "stream",
     "text": [
      "/usr/local/miniconda3/lib/python3.7/site-packages/obspy/io/mseed/core.py:790: UserWarning: The encoding specified in trace.stats.mseed.encoding does not match the dtype of the data.\n",
      "A suitable encoding will be chosen.\n",
      "  warnings.warn(msg, UserWarning)\n"
     ]
    },
    {
     "name": "stdout",
     "output_type": "stream",
     "text": [
      "Remove response complete for 2022-01-25T00:00:00.000000Z\n",
      "CI.WCS2..LHE | 2022-01-25T00:00:00.069500Z - 2022-01-25T23:59:59.069500Z | 1.0 Hz, 86400 samples\n",
      "Working on day 26\n",
      "0.8387096774193549 %\n"
     ]
    },
    {
     "name": "stderr",
     "output_type": "stream",
     "text": [
      "/usr/local/miniconda3/lib/python3.7/site-packages/obspy/io/mseed/core.py:790: UserWarning: The encoding specified in trace.stats.mseed.encoding does not match the dtype of the data.\n",
      "A suitable encoding will be chosen.\n",
      "  warnings.warn(msg, UserWarning)\n"
     ]
    },
    {
     "name": "stdout",
     "output_type": "stream",
     "text": [
      "Remove response complete for 2022-01-26T00:00:00.000000Z\n",
      "CI.WCS2..LHE | 2022-01-26T00:00:00.069500Z - 2022-01-26T23:59:59.069500Z | 1.0 Hz, 86400 samples\n",
      "Working on day 27\n",
      "0.8709677419354839 %\n"
     ]
    },
    {
     "name": "stderr",
     "output_type": "stream",
     "text": [
      "/usr/local/miniconda3/lib/python3.7/site-packages/obspy/io/mseed/core.py:790: UserWarning: The encoding specified in trace.stats.mseed.encoding does not match the dtype of the data.\n",
      "A suitable encoding will be chosen.\n",
      "  warnings.warn(msg, UserWarning)\n"
     ]
    },
    {
     "name": "stdout",
     "output_type": "stream",
     "text": [
      "Remove response complete for 2022-01-27T00:00:00.000000Z\n",
      "CI.WCS2..LHE | 2022-01-27T00:00:00.069500Z - 2022-01-27T23:59:59.069500Z | 1.0 Hz, 86400 samples\n",
      "Working on day 28\n",
      "0.9032258064516129 %\n"
     ]
    },
    {
     "name": "stderr",
     "output_type": "stream",
     "text": [
      "/usr/local/miniconda3/lib/python3.7/site-packages/obspy/io/mseed/core.py:790: UserWarning: The encoding specified in trace.stats.mseed.encoding does not match the dtype of the data.\n",
      "A suitable encoding will be chosen.\n",
      "  warnings.warn(msg, UserWarning)\n"
     ]
    },
    {
     "name": "stdout",
     "output_type": "stream",
     "text": [
      "Remove response complete for 2022-01-28T00:00:00.000000Z\n",
      "CI.WCS2..LHE | 2022-01-28T00:00:00.069500Z - 2022-01-28T23:59:59.069500Z | 1.0 Hz, 86400 samples\n",
      "Working on day 29\n",
      "0.9354838709677419 %\n"
     ]
    },
    {
     "name": "stderr",
     "output_type": "stream",
     "text": [
      "/usr/local/miniconda3/lib/python3.7/site-packages/obspy/io/mseed/core.py:790: UserWarning: The encoding specified in trace.stats.mseed.encoding does not match the dtype of the data.\n",
      "A suitable encoding will be chosen.\n",
      "  warnings.warn(msg, UserWarning)\n"
     ]
    },
    {
     "name": "stdout",
     "output_type": "stream",
     "text": [
      "Remove response complete for 2022-01-29T00:00:00.000000Z\n",
      "CI.WCS2..LHE | 2022-01-29T00:00:00.069500Z - 2022-01-29T23:59:59.069500Z | 1.0 Hz, 86400 samples\n",
      "Working on day 30\n",
      "0.967741935483871 %\n"
     ]
    },
    {
     "name": "stderr",
     "output_type": "stream",
     "text": [
      "/usr/local/miniconda3/lib/python3.7/site-packages/obspy/io/mseed/core.py:790: UserWarning: The encoding specified in trace.stats.mseed.encoding does not match the dtype of the data.\n",
      "A suitable encoding will be chosen.\n",
      "  warnings.warn(msg, UserWarning)\n"
     ]
    },
    {
     "name": "stdout",
     "output_type": "stream",
     "text": [
      "Remove response complete for 2022-01-30T00:00:00.000000Z\n",
      "CI.WCS2..LHE | 2022-01-30T00:00:00.069500Z - 2022-01-30T23:59:59.069500Z | 1.0 Hz, 86400 samples\n",
      "Working on day 31\n",
      "1.0 %\n"
     ]
    },
    {
     "name": "stderr",
     "output_type": "stream",
     "text": [
      "/usr/local/miniconda3/lib/python3.7/site-packages/obspy/io/mseed/core.py:790: UserWarning: The encoding specified in trace.stats.mseed.encoding does not match the dtype of the data.\n",
      "A suitable encoding will be chosen.\n",
      "  warnings.warn(msg, UserWarning)\n"
     ]
    },
    {
     "name": "stdout",
     "output_type": "stream",
     "text": [
      "Remove response complete for 2022-01-31T00:00:00.000000Z\n",
      "CI.WCS2..LHE | 2022-01-31T00:00:00.069500Z - 2022-01-31T23:59:59.069500Z | 1.0 Hz, 86400 samples\n",
      "Data written for 2022-01-31T00:00:00.000000Z\n",
      "Working on day 1\n",
      "0.03225806451612903 %\n"
     ]
    },
    {
     "name": "stderr",
     "output_type": "stream",
     "text": [
      "/usr/local/miniconda3/lib/python3.7/site-packages/obspy/io/mseed/core.py:790: UserWarning: The encoding specified in trace.stats.mseed.encoding does not match the dtype of the data.\n",
      "A suitable encoding will be chosen.\n",
      "  warnings.warn(msg, UserWarning)\n"
     ]
    },
    {
     "name": "stdout",
     "output_type": "stream",
     "text": [
      "Remove response complete for 2022-01-01T00:00:00.000000Z\n",
      "CI.WCS2..LHN | 2022-01-01T00:00:00.069500Z - 2022-01-01T23:59:59.069500Z | 1.0 Hz, 86400 samples\n",
      "Working on day 2\n",
      "0.06451612903225806 %\n"
     ]
    },
    {
     "name": "stderr",
     "output_type": "stream",
     "text": [
      "/usr/local/miniconda3/lib/python3.7/site-packages/obspy/io/mseed/core.py:790: UserWarning: The encoding specified in trace.stats.mseed.encoding does not match the dtype of the data.\n",
      "A suitable encoding will be chosen.\n",
      "  warnings.warn(msg, UserWarning)\n"
     ]
    },
    {
     "name": "stdout",
     "output_type": "stream",
     "text": [
      "Remove response complete for 2022-01-02T00:00:00.000000Z\n",
      "CI.WCS2..LHN | 2022-01-02T00:00:00.069500Z - 2022-01-02T23:59:59.069500Z | 1.0 Hz, 86400 samples\n",
      "Working on day 3\n",
      "0.0967741935483871 %\n"
     ]
    },
    {
     "name": "stderr",
     "output_type": "stream",
     "text": [
      "/usr/local/miniconda3/lib/python3.7/site-packages/obspy/io/mseed/core.py:790: UserWarning: The encoding specified in trace.stats.mseed.encoding does not match the dtype of the data.\n",
      "A suitable encoding will be chosen.\n",
      "  warnings.warn(msg, UserWarning)\n"
     ]
    },
    {
     "name": "stdout",
     "output_type": "stream",
     "text": [
      "Remove response complete for 2022-01-03T00:00:00.000000Z\n",
      "CI.WCS2..LHN | 2022-01-03T00:00:00.069500Z - 2022-01-03T23:59:59.069500Z | 1.0 Hz, 86400 samples\n",
      "Working on day 4\n",
      "0.12903225806451613 %\n"
     ]
    },
    {
     "name": "stderr",
     "output_type": "stream",
     "text": [
      "/usr/local/miniconda3/lib/python3.7/site-packages/obspy/io/mseed/core.py:790: UserWarning: The encoding specified in trace.stats.mseed.encoding does not match the dtype of the data.\n",
      "A suitable encoding will be chosen.\n",
      "  warnings.warn(msg, UserWarning)\n"
     ]
    },
    {
     "name": "stdout",
     "output_type": "stream",
     "text": [
      "Remove response complete for 2022-01-04T00:00:00.000000Z\n",
      "CI.WCS2..LHN | 2022-01-04T00:00:00.069500Z - 2022-01-04T23:59:59.069500Z | 1.0 Hz, 86400 samples\n",
      "Working on day 5\n",
      "0.16129032258064516 %\n"
     ]
    },
    {
     "name": "stderr",
     "output_type": "stream",
     "text": [
      "/usr/local/miniconda3/lib/python3.7/site-packages/obspy/io/mseed/core.py:790: UserWarning: The encoding specified in trace.stats.mseed.encoding does not match the dtype of the data.\n",
      "A suitable encoding will be chosen.\n",
      "  warnings.warn(msg, UserWarning)\n"
     ]
    },
    {
     "name": "stdout",
     "output_type": "stream",
     "text": [
      "Remove response complete for 2022-01-05T00:00:00.000000Z\n",
      "CI.WCS2..LHN | 2022-01-05T00:00:00.069500Z - 2022-01-05T23:59:59.069500Z | 1.0 Hz, 86400 samples\n",
      "Working on day 6\n",
      "0.1935483870967742 %\n"
     ]
    },
    {
     "name": "stderr",
     "output_type": "stream",
     "text": [
      "/usr/local/miniconda3/lib/python3.7/site-packages/obspy/io/mseed/core.py:790: UserWarning: The encoding specified in trace.stats.mseed.encoding does not match the dtype of the data.\n",
      "A suitable encoding will be chosen.\n",
      "  warnings.warn(msg, UserWarning)\n"
     ]
    },
    {
     "name": "stdout",
     "output_type": "stream",
     "text": [
      "Remove response complete for 2022-01-06T00:00:00.000000Z\n",
      "CI.WCS2..LHN | 2022-01-06T00:00:00.069500Z - 2022-01-06T23:59:59.069500Z | 1.0 Hz, 86400 samples\n",
      "Working on day 7\n",
      "0.22580645161290322 %\n"
     ]
    },
    {
     "name": "stderr",
     "output_type": "stream",
     "text": [
      "/usr/local/miniconda3/lib/python3.7/site-packages/obspy/io/mseed/core.py:790: UserWarning: The encoding specified in trace.stats.mseed.encoding does not match the dtype of the data.\n",
      "A suitable encoding will be chosen.\n",
      "  warnings.warn(msg, UserWarning)\n"
     ]
    },
    {
     "name": "stdout",
     "output_type": "stream",
     "text": [
      "Remove response complete for 2022-01-07T00:00:00.000000Z\n",
      "CI.WCS2..LHN | 2022-01-07T00:00:00.069500Z - 2022-01-07T23:59:59.069500Z | 1.0 Hz, 86400 samples\n",
      "Working on day 8\n",
      "0.25806451612903225 %\n"
     ]
    },
    {
     "name": "stderr",
     "output_type": "stream",
     "text": [
      "/usr/local/miniconda3/lib/python3.7/site-packages/obspy/io/mseed/core.py:790: UserWarning: The encoding specified in trace.stats.mseed.encoding does not match the dtype of the data.\n",
      "A suitable encoding will be chosen.\n",
      "  warnings.warn(msg, UserWarning)\n"
     ]
    },
    {
     "name": "stdout",
     "output_type": "stream",
     "text": [
      "Remove response complete for 2022-01-08T00:00:00.000000Z\n",
      "CI.WCS2..LHN | 2022-01-08T00:00:00.069500Z - 2022-01-08T23:59:59.069500Z | 1.0 Hz, 86400 samples\n",
      "Working on day 9\n",
      "0.2903225806451613 %\n"
     ]
    },
    {
     "name": "stderr",
     "output_type": "stream",
     "text": [
      "/usr/local/miniconda3/lib/python3.7/site-packages/obspy/io/mseed/core.py:790: UserWarning: The encoding specified in trace.stats.mseed.encoding does not match the dtype of the data.\n",
      "A suitable encoding will be chosen.\n",
      "  warnings.warn(msg, UserWarning)\n"
     ]
    },
    {
     "name": "stdout",
     "output_type": "stream",
     "text": [
      "Remove response complete for 2022-01-09T00:00:00.000000Z\n",
      "CI.WCS2..LHN | 2022-01-09T00:00:00.069500Z - 2022-01-09T23:59:59.069500Z | 1.0 Hz, 86400 samples\n",
      "Working on day 10\n",
      "0.3225806451612903 %\n"
     ]
    },
    {
     "name": "stderr",
     "output_type": "stream",
     "text": [
      "/usr/local/miniconda3/lib/python3.7/site-packages/obspy/io/mseed/core.py:790: UserWarning: The encoding specified in trace.stats.mseed.encoding does not match the dtype of the data.\n",
      "A suitable encoding will be chosen.\n",
      "  warnings.warn(msg, UserWarning)\n"
     ]
    },
    {
     "ename": "KeyboardInterrupt",
     "evalue": "",
     "output_type": "error",
     "traceback": [
      "\u001b[0;31m---------------------------------------------------------------------------\u001b[0m",
      "\u001b[0;31mKeyboardInterrupt\u001b[0m                         Traceback (most recent call last)",
      "\u001b[0;32m/tmp/ipykernel_12836/2516354975.py\u001b[0m in \u001b[0;36m<module>\u001b[0;34m\u001b[0m\n\u001b[1;32m     16\u001b[0m \u001b[0;34m\u001b[0m\u001b[0m\n\u001b[1;32m     17\u001b[0m             \u001b[0mst\u001b[0m \u001b[0;34m=\u001b[0m \u001b[0mclient\u001b[0m\u001b[0;34m.\u001b[0m\u001b[0mget_waveforms\u001b[0m\u001b[0;34m(\u001b[0m\u001b[0;34m'CI'\u001b[0m\u001b[0;34m,\u001b[0m \u001b[0;34mf'{sta}'\u001b[0m\u001b[0;34m,\u001b[0m \u001b[0;34m\"*\"\u001b[0m\u001b[0;34m,\u001b[0m \u001b[0;34mf'{cha}'\u001b[0m\u001b[0;34m,\u001b[0m \u001b[0;34m(\u001b[0m\u001b[0mstart\u001b[0m\u001b[0;34m)\u001b[0m\u001b[0;34m,\u001b[0m \u001b[0;34m(\u001b[0m\u001b[0mend\u001b[0m\u001b[0;34m)\u001b[0m\u001b[0;34m,\u001b[0m \u001b[0mattach_response\u001b[0m\u001b[0;34m=\u001b[0m\u001b[0;32mTrue\u001b[0m\u001b[0;34m)\u001b[0m\u001b[0;34m\u001b[0m\u001b[0;34m\u001b[0m\u001b[0m\n\u001b[0;32m---> 18\u001b[0;31m             \u001b[0mst\u001b[0m\u001b[0;34m[\u001b[0m\u001b[0;36m0\u001b[0m\u001b[0;34m]\u001b[0m\u001b[0;34m.\u001b[0m\u001b[0mremove_response\u001b[0m\u001b[0;34m(\u001b[0m\u001b[0minventory\u001b[0m\u001b[0;34m=\u001b[0m\u001b[0;32mNone\u001b[0m\u001b[0;34m,\u001b[0m \u001b[0moutput\u001b[0m\u001b[0;34m=\u001b[0m\u001b[0;34m'VEL'\u001b[0m\u001b[0;34m,\u001b[0m \u001b[0mwater_level\u001b[0m\u001b[0;34m=\u001b[0m\u001b[0;36m60\u001b[0m\u001b[0;34m)\u001b[0m\u001b[0;34m\u001b[0m\u001b[0;34m\u001b[0m\u001b[0m\n\u001b[0m\u001b[1;32m     19\u001b[0m             \u001b[0mprint\u001b[0m\u001b[0;34m(\u001b[0m\u001b[0;34m'Remove response complete for'\u001b[0m\u001b[0;34m,\u001b[0m\u001b[0mstart\u001b[0m\u001b[0;34m)\u001b[0m\u001b[0;34m\u001b[0m\u001b[0;34m\u001b[0m\u001b[0m\n\u001b[1;32m     20\u001b[0m             \u001b[0mprint\u001b[0m\u001b[0;34m(\u001b[0m\u001b[0mst\u001b[0m\u001b[0;34m[\u001b[0m\u001b[0;36m0\u001b[0m\u001b[0;34m]\u001b[0m\u001b[0;34m)\u001b[0m\u001b[0;34m\u001b[0m\u001b[0;34m\u001b[0m\u001b[0m\n",
      "\u001b[0;32m/usr/local/miniconda3/lib/python3.7/site-packages/decorator.py\u001b[0m in \u001b[0;36mfun\u001b[0;34m(*args, **kw)\u001b[0m\n\u001b[1;32m    230\u001b[0m             \u001b[0;32mif\u001b[0m \u001b[0;32mnot\u001b[0m \u001b[0mkwsyntax\u001b[0m\u001b[0;34m:\u001b[0m\u001b[0;34m\u001b[0m\u001b[0;34m\u001b[0m\u001b[0m\n\u001b[1;32m    231\u001b[0m                 \u001b[0margs\u001b[0m\u001b[0;34m,\u001b[0m \u001b[0mkw\u001b[0m \u001b[0;34m=\u001b[0m \u001b[0mfix\u001b[0m\u001b[0;34m(\u001b[0m\u001b[0margs\u001b[0m\u001b[0;34m,\u001b[0m \u001b[0mkw\u001b[0m\u001b[0;34m,\u001b[0m \u001b[0msig\u001b[0m\u001b[0;34m)\u001b[0m\u001b[0;34m\u001b[0m\u001b[0;34m\u001b[0m\u001b[0m\n\u001b[0;32m--> 232\u001b[0;31m             \u001b[0;32mreturn\u001b[0m \u001b[0mcaller\u001b[0m\u001b[0;34m(\u001b[0m\u001b[0mfunc\u001b[0m\u001b[0;34m,\u001b[0m \u001b[0;34m*\u001b[0m\u001b[0;34m(\u001b[0m\u001b[0mextras\u001b[0m \u001b[0;34m+\u001b[0m \u001b[0margs\u001b[0m\u001b[0;34m)\u001b[0m\u001b[0;34m,\u001b[0m \u001b[0;34m**\u001b[0m\u001b[0mkw\u001b[0m\u001b[0;34m)\u001b[0m\u001b[0;34m\u001b[0m\u001b[0;34m\u001b[0m\u001b[0m\n\u001b[0m\u001b[1;32m    233\u001b[0m     \u001b[0mfun\u001b[0m\u001b[0;34m.\u001b[0m\u001b[0m__name__\u001b[0m \u001b[0;34m=\u001b[0m \u001b[0mfunc\u001b[0m\u001b[0;34m.\u001b[0m\u001b[0m__name__\u001b[0m\u001b[0;34m\u001b[0m\u001b[0;34m\u001b[0m\u001b[0m\n\u001b[1;32m    234\u001b[0m     \u001b[0mfun\u001b[0m\u001b[0;34m.\u001b[0m\u001b[0m__doc__\u001b[0m \u001b[0;34m=\u001b[0m \u001b[0mfunc\u001b[0m\u001b[0;34m.\u001b[0m\u001b[0m__doc__\u001b[0m\u001b[0;34m\u001b[0m\u001b[0;34m\u001b[0m\u001b[0m\n",
      "\u001b[0;32m/usr/local/miniconda3/lib/python3.7/site-packages/obspy/core/trace.py\u001b[0m in \u001b[0;36m_add_processing_info\u001b[0;34m(func, *args, **kwargs)\u001b[0m\n\u001b[1;32m    271\u001b[0m     \u001b[0minfo\u001b[0m \u001b[0;34m=\u001b[0m \u001b[0minfo\u001b[0m \u001b[0;34m%\u001b[0m \u001b[0;34m\"::\"\u001b[0m\u001b[0;34m.\u001b[0m\u001b[0mjoin\u001b[0m\u001b[0;34m(\u001b[0m\u001b[0marguments\u001b[0m\u001b[0;34m)\u001b[0m\u001b[0;34m\u001b[0m\u001b[0;34m\u001b[0m\u001b[0m\n\u001b[1;32m    272\u001b[0m     \u001b[0mself\u001b[0m \u001b[0;34m=\u001b[0m \u001b[0margs\u001b[0m\u001b[0;34m[\u001b[0m\u001b[0;36m0\u001b[0m\u001b[0;34m]\u001b[0m\u001b[0;34m\u001b[0m\u001b[0;34m\u001b[0m\u001b[0m\n\u001b[0;32m--> 273\u001b[0;31m     \u001b[0mresult\u001b[0m \u001b[0;34m=\u001b[0m \u001b[0mfunc\u001b[0m\u001b[0;34m(\u001b[0m\u001b[0;34m*\u001b[0m\u001b[0margs\u001b[0m\u001b[0;34m,\u001b[0m \u001b[0;34m**\u001b[0m\u001b[0mkwargs\u001b[0m\u001b[0;34m)\u001b[0m\u001b[0;34m\u001b[0m\u001b[0;34m\u001b[0m\u001b[0m\n\u001b[0m\u001b[1;32m    274\u001b[0m     \u001b[0;31m# Attach after executing the function to avoid having it attached\u001b[0m\u001b[0;34m\u001b[0m\u001b[0;34m\u001b[0m\u001b[0;34m\u001b[0m\u001b[0m\n\u001b[1;32m    275\u001b[0m     \u001b[0;31m# while the operation failed.\u001b[0m\u001b[0;34m\u001b[0m\u001b[0;34m\u001b[0m\u001b[0;34m\u001b[0m\u001b[0m\n",
      "\u001b[0;32m/usr/local/miniconda3/lib/python3.7/site-packages/obspy/core/trace.py\u001b[0m in \u001b[0;36mremove_response\u001b[0;34m(self, inventory, output, water_level, pre_filt, zero_mean, taper, taper_fraction, plot, fig, **kwargs)\u001b[0m\n\u001b[1;32m   2883\u001b[0m         \u001b[0mfreq_response\u001b[0m\u001b[0;34m,\u001b[0m \u001b[0mfreqs\u001b[0m \u001b[0;34m=\u001b[0m\u001b[0;31m \u001b[0m\u001b[0;31m\\\u001b[0m\u001b[0;34m\u001b[0m\u001b[0;34m\u001b[0m\u001b[0m\n\u001b[1;32m   2884\u001b[0m             response.get_evalresp_response(self.stats.delta, nfft,\n\u001b[0;32m-> 2885\u001b[0;31m                                            output=output, **kwargs)\n\u001b[0m\u001b[1;32m   2886\u001b[0m \u001b[0;34m\u001b[0m\u001b[0m\n\u001b[1;32m   2887\u001b[0m         \u001b[0;32mif\u001b[0m \u001b[0mplot\u001b[0m\u001b[0;34m:\u001b[0m\u001b[0;34m\u001b[0m\u001b[0;34m\u001b[0m\u001b[0m\n",
      "\u001b[0;32m/usr/local/miniconda3/lib/python3.7/site-packages/obspy/core/inventory/response.py\u001b[0m in \u001b[0;36mget_evalresp_response\u001b[0;34m(self, t_samp, nfft, output, start_stage, end_stage)\u001b[0m\n\u001b[1;32m   1672\u001b[0m \u001b[0;34m\u001b[0m\u001b[0m\n\u001b[1;32m   1673\u001b[0m         response = self.get_evalresp_response_for_frequencies(\n\u001b[0;32m-> 1674\u001b[0;31m             freqs, output=output, start_stage=start_stage, end_stage=end_stage)\n\u001b[0m\u001b[1;32m   1675\u001b[0m         \u001b[0;32mreturn\u001b[0m \u001b[0mresponse\u001b[0m\u001b[0;34m,\u001b[0m \u001b[0mfreqs\u001b[0m\u001b[0;34m\u001b[0m\u001b[0;34m\u001b[0m\u001b[0m\n\u001b[1;32m   1676\u001b[0m \u001b[0;34m\u001b[0m\u001b[0m\n",
      "\u001b[0;32m/usr/local/miniconda3/lib/python3.7/site-packages/obspy/core/inventory/response.py\u001b[0m in \u001b[0;36mget_evalresp_response_for_frequencies\u001b[0;34m(self, frequencies, output, start_stage, end_stage)\u001b[0m\n\u001b[1;32m   1630\u001b[0m         output, chan = self._call_eval_resp_for_frequencies(\n\u001b[1;32m   1631\u001b[0m             \u001b[0mfrequencies\u001b[0m\u001b[0;34m,\u001b[0m \u001b[0moutput\u001b[0m\u001b[0;34m=\u001b[0m\u001b[0moutput\u001b[0m\u001b[0;34m,\u001b[0m \u001b[0mstart_stage\u001b[0m\u001b[0;34m=\u001b[0m\u001b[0mstart_stage\u001b[0m\u001b[0;34m,\u001b[0m\u001b[0;34m\u001b[0m\u001b[0;34m\u001b[0m\u001b[0m\n\u001b[0;32m-> 1632\u001b[0;31m             end_stage=end_stage)\n\u001b[0m\u001b[1;32m   1633\u001b[0m         \u001b[0;32mreturn\u001b[0m \u001b[0moutput\u001b[0m\u001b[0;34m\u001b[0m\u001b[0;34m\u001b[0m\u001b[0m\n\u001b[1;32m   1634\u001b[0m \u001b[0;34m\u001b[0m\u001b[0m\n",
      "\u001b[0;32m/usr/local/miniconda3/lib/python3.7/site-packages/obspy/core/inventory/response.py\u001b[0m in \u001b[0;36m_call_eval_resp_for_frequencies\u001b[0;34m(self, frequencies, output, start_stage, end_stage, hide_sensitivity_mismatch_warning)\u001b[0m\n\u001b[1;32m   1589\u001b[0m             rc = clibevresp._obspy_calc_resp(C.byref(chan), frequencies,\n\u001b[1;32m   1590\u001b[0m                                              \u001b[0mlen\u001b[0m\u001b[0;34m(\u001b[0m\u001b[0mfrequencies\u001b[0m\u001b[0;34m)\u001b[0m\u001b[0;34m,\u001b[0m\u001b[0;34m\u001b[0m\u001b[0;34m\u001b[0m\u001b[0m\n\u001b[0;32m-> 1591\u001b[0;31m                                              output, out_units, -1, 0, 0)\n\u001b[0m\u001b[1;32m   1592\u001b[0m             \u001b[0;32mif\u001b[0m \u001b[0mrc\u001b[0m\u001b[0;34m:\u001b[0m\u001b[0;34m\u001b[0m\u001b[0;34m\u001b[0m\u001b[0m\n\u001b[1;32m   1593\u001b[0m                 \u001b[0me\u001b[0m\u001b[0;34m,\u001b[0m \u001b[0mm\u001b[0m \u001b[0;34m=\u001b[0m \u001b[0mew\u001b[0m\u001b[0;34m.\u001b[0m\u001b[0mENUM_ERROR_CODES\u001b[0m\u001b[0;34m[\u001b[0m\u001b[0mrc\u001b[0m\u001b[0;34m]\u001b[0m\u001b[0;34m\u001b[0m\u001b[0;34m\u001b[0m\u001b[0m\n",
      "\u001b[0;31mKeyboardInterrupt\u001b[0m: "
     ]
    }
   ],
   "source": [
    "\n",
    "\n",
    "Start=1\n",
    "Final=32\n",
    "for sta in [\"WCS2\"]:\n",
    "    path = os.path.join(\"2022\", f\"{sta}\")\n",
    "    os.makedirs(path)\n",
    "    for cha in [\"LHE\", \"LHN\", \"LHZ\"]:\n",
    "        path1 = os.path.join(path, f\"{cha}\")\n",
    "        os.makedirs(path1)\n",
    "        for i in range (Start,Final):\n",
    "            start = UTCDateTime(year=2022, julday=i)\n",
    "            end= start+(24*60*60)\n",
    "            year=start.strftime('%Y')\n",
    "            Progress=i/(Final-Start)\n",
    "            print('Working on day',start.julday)\n",
    "            print(Progress,\"%\")\n",
    "    \n",
    "            st = client.get_waveforms('CI', f'{sta}', \"*\", f'{cha}', (start), (end), attach_response=True)\n",
    "            st[0].remove_response(inventory=None, output='VEL', water_level=60)\n",
    "            print('Remove response complete for',start)\n",
    "            print(st[0])\n",
    "\n",
    "    \n",
    "#            st.merge(fill_value=0)\n",
    "#            st.sort()\n",
    "\n",
    "            st[0].write(path1+\"/\"+st[0].id + \".D.%d.%d.mseed\" %(start.year,start.julday), format=\"MSEED\")\n",
    "        print('Data written for',start)\n",
    "    print('Data written for',sta)"
   ]
  },
  {
   "cell_type": "code",
   "execution_count": null,
   "id": "3375c360",
   "metadata": {},
   "outputs": [],
   "source": []
  },
  {
   "cell_type": "code",
   "execution_count": null,
   "id": "f259c7ad",
   "metadata": {},
   "outputs": [],
   "source": []
  },
  {
   "cell_type": "code",
   "execution_count": null,
   "id": "77225d04",
   "metadata": {},
   "outputs": [],
   "source": []
  }
 ],
 "metadata": {
  "kernelspec": {
   "display_name": "msnoise2",
   "language": "python",
   "name": "msnoise2"
  },
  "language_info": {
   "codemirror_mode": {
    "name": "ipython",
    "version": 3
   },
   "file_extension": ".py",
   "mimetype": "text/x-python",
   "name": "python",
   "nbconvert_exporter": "python",
   "pygments_lexer": "ipython3",
   "version": "3.7.6"
  }
 },
 "nbformat": 4,
 "nbformat_minor": 5
}
